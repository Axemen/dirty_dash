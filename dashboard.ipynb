{
 "cells": [
  {
   "cell_type": "code",
   "execution_count": 52,
   "metadata": {},
   "outputs": [],
   "source": [
    "import panel as pn\n",
    "import pandas as pd\n",
    "import hvplot.pandas\n",
    "import requests as r\n",
    "from dotenv import load_dotenv\n",
    "import os\n",
    "from datetime import datetime as dt\n",
    "import numpy as np"
   ]
  },
  {
   "cell_type": "code",
   "execution_count": 2,
   "metadata": {},
   "outputs": [
    {
     "data": {
      "text/plain": [
       "True"
      ]
     },
     "execution_count": 2,
     "metadata": {},
     "output_type": "execute_result"
    }
   ],
   "source": [
    "load_dotenv()"
   ]
  },
  {
   "cell_type": "code",
   "execution_count": null,
   "metadata": {},
   "outputs": [],
   "source": []
  },
  {
   "cell_type": "markdown",
   "metadata": {},
   "source": [
    "### Creating custom alpaca API request as the SDK has conflicting requiremnts with pyviz"
   ]
  },
  {
   "cell_type": "code",
   "execution_count": 32,
   "metadata": {},
   "outputs": [],
   "source": [
    "def sharpe_ratio(df, trading_days, ):\n",
    "    return np.sqrt()"
   ]
  },
  {
   "cell_type": "code",
   "execution_count": 37,
   "metadata": {},
   "outputs": [],
   "source": [
    "def get_closing_prices(tickers, start_date=None, end_date=None):\n",
    "    headers = {\n",
    "        'APCA-API-KEY-ID':os.getenv('APCA_API_KEY_ID'),\n",
    "        'APCA-API-SECRET-KEY':os.getenv('APCA_API_SECRET_KEY')\n",
    "    }\n",
    "    url = 'https://data.alpaca.markets/v1/bars/day?symbols=' + tickers\n",
    "    if start_date:\n",
    "        start_date = pd.Timestamp(start_date, tz='EST').isoformat()\n",
    "        url += \"&start=\" + start_date\n",
    "    if end_date:\n",
    "        end_date = pd.Timestamp(end_date, tz='EST').isoformat()\n",
    "        url += \"&end=\" + end_date\n",
    "    ticker_data = r.get(url, headers=headers).json()\n",
    "    \n",
    "    # Extracting closing prices\n",
    "    closing_prices = pd.DataFrame()\n",
    "    closing_prices['date'] = [dt.fromtimestamp(x['t']) for x in ticker_data[tickers.split(',')[0]]]\n",
    "    for k in ticker_data:\n",
    "        closing_prices[k] = [x['c'] for x in ticker_data[k]]\n",
    "        \n",
    "    return closing_prices.set_index('date')"
   ]
  },
  {
   "cell_type": "code",
   "execution_count": 74,
   "metadata": {},
   "outputs": [],
   "source": [
    "def graph_closes(tickers, start_date='2020-01-01', end_date='2020-02-01', calc='close'):\n",
    "    try:\n",
    "        df = get_closing_prices(tickers, start_date, end_date)\n",
    "    except Exception as e:\n",
    "        print(e)\n",
    "        return None\n",
    "    \n",
    "    def plot_std(rolling, rolling_window):\n",
    "        if rolling:\n",
    "            return df.rolling(rolling_window).std().hvplot.line()\n",
    "        else:\n",
    "            return df.std().hvplot.bar()\n",
    "        \n",
    "    def plot_mean(rolling, rolling_window):\n",
    "        if rolling:\n",
    "            return df.rolling(rolling_window).mean().hvplot.line()\n",
    "        else:\n",
    "            return df.mean().hvplot.bar()\n",
    "        \n",
    "    def plot_ewma(rolling_window):\n",
    "        return df.ewm(halflife=rolling_window).mean().hvplot.line()\n",
    "    \n",
    "    def plot_ewmstd(rolling_window):\n",
    "        return df.ewm(halflife=rolling_window).std().hvplot.line()\n",
    "    \n",
    "    def plot_sharpe(rolling, rolling_window):\n",
    "        returns = df.pct_change()\n",
    "        if rolling:\n",
    "            return returns.rolling(rolling_window).apply(lambda x: (x.mean() - 0.02) / x.std(), raw=True).hvplot.line()\n",
    "        else:\n",
    "            return ((returns.mean() * len(df) / (returns.std() * np.sqrt(len(df))))).hvplot.bar()\n",
    "    \n",
    "    if calc == 'close': return df.hvplot.line()\n",
    "    if calc == 'pct_change': return df.pct_change().hvplot.line()\n",
    "    if calc == 'ewma': return pn.interact(plot_ewma, rolling_window=(1, 20))\n",
    "    if calc == 'ewmstd': return pn.interact(plot_ewmstd, rolling_window=(1, 20))\n",
    "    if calc == 'std': return pn.interact(plot_std, rolling=False, rolling_window=(1, 20))\n",
    "    if calc == 'mean': return pn.interact(plot_mean, rolling=False, rolling_window=(1, 20))\n",
    "    if calc == 'sharpe': return pn.interact(plot_sharpe, rolling=False, rolling_window=(1, 20), num_trading_days=(1, 252))"
   ]
  },
  {
   "cell_type": "code",
   "execution_count": 75,
   "metadata": {},
   "outputs": [
    {
     "name": "stdout",
     "output_type": "stream",
     "text": [
      "22\r"
     ]
    },
    {
     "data": {},
     "metadata": {},
     "output_type": "display_data"
    },
    {
     "data": {},
     "metadata": {},
     "output_type": "display_data"
    },
    {
     "data": {
      "application/vnd.holoviews_exec.v0+json": "",
      "text/html": [
       "<div id='245688'>\n",
       "\n",
       "\n",
       "\n",
       "\n",
       "\n",
       "  <div class=\"bk-root\" id=\"f61b6f59-c2e3-466b-ae2b-4b508764059d\" data-root-id=\"245688\"></div>\n",
       "</div>\n",
       "<script type=\"application/javascript\">(function(root) {\n",
       "  function embed_document(root) {\n",
       "  var docs_json = {\"93c181b0-1ef5-4b89-b505-ebc14967f77b\":{\"roots\":{\"references\":[{\"attributes\":{\"months\":[0,4,8]},\"id\":\"245756\",\"type\":\"MonthsTicker\"},{\"attributes\":{\"align\":null,\"below\":[{\"id\":\"245708\"}],\"center\":[{\"id\":\"245711\"},{\"id\":\"245715\"}],\"left\":[{\"id\":\"245712\"}],\"margin\":null,\"min_border_bottom\":10,\"min_border_left\":10,\"min_border_right\":10,\"min_border_top\":10,\"plot_height\":300,\"plot_width\":700,\"renderers\":[{\"id\":\"245739\"},{\"id\":\"245769\"}],\"right\":[{\"id\":\"245761\"}],\"sizing_mode\":\"fixed\",\"title\":{\"id\":\"245700\"},\"toolbar\":{\"id\":\"245722\"},\"x_range\":{\"id\":\"245695\"},\"x_scale\":{\"id\":\"245704\"},\"y_range\":{\"id\":\"245696\"},\"y_scale\":{\"id\":\"245706\"}},\"id\":\"245699\",\"subtype\":\"Figure\",\"type\":\"Plot\"},{\"attributes\":{\"days\":[1,2,3,4,5,6,7,8,9,10,11,12,13,14,15,16,17,18,19,20,21,22,23,24,25,26,27,28,29,30,31]},\"id\":\"245750\",\"type\":\"DaysTicker\"},{\"attributes\":{\"children\":[{\"id\":\"245689\"},{\"id\":\"245694\"}],\"margin\":[0,0,0,0],\"name\":\"Column285476\"},\"id\":\"245688\",\"type\":\"Column\"},{\"attributes\":{},\"id\":\"245713\",\"type\":\"BasicTicker\"},{\"attributes\":{\"axis_label\":\"date\",\"bounds\":\"auto\",\"formatter\":{\"id\":\"245730\"},\"major_label_orientation\":\"horizontal\",\"ticker\":{\"id\":\"245709\"}},\"id\":\"245708\",\"type\":\"DatetimeAxis\"},{\"attributes\":{},\"id\":\"245717\",\"type\":\"PanTool\"},{\"attributes\":{\"line_color\":\"#1f77b3\",\"line_width\":2,\"x\":{\"field\":\"date\"},\"y\":{\"field\":\"value\"}},\"id\":\"245736\",\"type\":\"Line\"},{\"attributes\":{},\"id\":\"245764\",\"type\":\"Selection\"},{\"attributes\":{},\"id\":\"245706\",\"type\":\"LinearScale\"},{\"attributes\":{\"base\":60,\"mantissas\":[1,2,5,10,15,20,30],\"max_interval\":1800000.0,\"min_interval\":1000.0,\"num_minor_ticks\":0},\"id\":\"245748\",\"type\":\"AdaptiveTicker\"},{\"attributes\":{\"margin\":[5,10,5,10],\"options\":[\"close\",\"pct_change\",\"std\",\"mean\",\"ewma\",\"ewmstd\",\"sharpe\"],\"title\":\"calc\",\"value\":\"close\"},\"id\":\"245693\",\"type\":\"Select\"},{\"attributes\":{},\"id\":\"245720\",\"type\":\"ResetTool\"},{\"attributes\":{\"line_alpha\":0.2,\"line_color\":\"#ff7e0e\",\"line_width\":2,\"x\":{\"field\":\"date\"},\"y\":{\"field\":\"value\"}},\"id\":\"245768\",\"type\":\"Line\"},{\"attributes\":{\"data_source\":{\"id\":\"245733\"},\"glyph\":{\"id\":\"245736\"},\"hover_glyph\":null,\"muted_glyph\":{\"id\":\"245738\"},\"nonselection_glyph\":{\"id\":\"245737\"},\"selection_glyph\":null,\"view\":{\"id\":\"245740\"}},\"id\":\"245739\",\"type\":\"GlyphRenderer\"},{\"attributes\":{\"base\":24,\"mantissas\":[1,2,4,6,8,12],\"max_interval\":43200000.0,\"min_interval\":3600000.0,\"num_minor_ticks\":0},\"id\":\"245749\",\"type\":\"AdaptiveTicker\"},{\"attributes\":{\"margin\":[5,10,5,10],\"title\":\"start_date\",\"value\":\"2019-01-01\"},\"id\":\"245691\",\"type\":\"TextInput\"},{\"attributes\":{\"data_source\":{\"id\":\"245763\"},\"glyph\":{\"id\":\"245766\"},\"hover_glyph\":null,\"muted_glyph\":{\"id\":\"245768\"},\"nonselection_glyph\":{\"id\":\"245767\"},\"selection_glyph\":null,\"view\":{\"id\":\"245770\"}},\"id\":\"245769\",\"type\":\"GlyphRenderer\"},{\"attributes\":{\"data\":{\"Variable\":[\"AAPL\",\"AAPL\",\"AAPL\",\"AAPL\",\"AAPL\",\"AAPL\",\"AAPL\",\"AAPL\",\"AAPL\",\"AAPL\",\"AAPL\",\"AAPL\",\"AAPL\",\"AAPL\",\"AAPL\",\"AAPL\",\"AAPL\",\"AAPL\",\"AAPL\",\"AAPL\",\"AAPL\",\"AAPL\",\"AAPL\",\"AAPL\",\"AAPL\",\"AAPL\",\"AAPL\",\"AAPL\",\"AAPL\",\"AAPL\",\"AAPL\",\"AAPL\",\"AAPL\",\"AAPL\",\"AAPL\",\"AAPL\",\"AAPL\",\"AAPL\",\"AAPL\",\"AAPL\",\"AAPL\",\"AAPL\",\"AAPL\",\"AAPL\",\"AAPL\",\"AAPL\",\"AAPL\",\"AAPL\",\"AAPL\",\"AAPL\",\"AAPL\",\"AAPL\",\"AAPL\",\"AAPL\",\"AAPL\",\"AAPL\",\"AAPL\",\"AAPL\",\"AAPL\",\"AAPL\",\"AAPL\",\"AAPL\",\"AAPL\",\"AAPL\",\"AAPL\",\"AAPL\",\"AAPL\",\"AAPL\",\"AAPL\",\"AAPL\",\"AAPL\",\"AAPL\",\"AAPL\",\"AAPL\",\"AAPL\",\"AAPL\",\"AAPL\",\"AAPL\",\"AAPL\",\"AAPL\",\"AAPL\",\"AAPL\",\"AAPL\",\"AAPL\",\"AAPL\",\"AAPL\",\"AAPL\",\"AAPL\",\"AAPL\",\"AAPL\",\"AAPL\",\"AAPL\",\"AAPL\",\"AAPL\",\"AAPL\",\"AAPL\",\"AAPL\",\"AAPL\",\"AAPL\",\"AAPL\",\"AAPL\",\"AAPL\",\"AAPL\",\"AAPL\",\"AAPL\",\"AAPL\",\"AAPL\",\"AAPL\",\"AAPL\",\"AAPL\",\"AAPL\",\"AAPL\",\"AAPL\",\"AAPL\",\"AAPL\",\"AAPL\",\"AAPL\",\"AAPL\",\"AAPL\",\"AAPL\",\"AAPL\",\"AAPL\",\"AAPL\",\"AAPL\",\"AAPL\",\"AAPL\",\"AAPL\",\"AAPL\",\"AAPL\",\"AAPL\",\"AAPL\",\"AAPL\",\"AAPL\",\"AAPL\",\"AAPL\",\"AAPL\",\"AAPL\",\"AAPL\",\"AAPL\",\"AAPL\",\"AAPL\",\"AAPL\",\"AAPL\",\"AAPL\",\"AAPL\",\"AAPL\",\"AAPL\",\"AAPL\",\"AAPL\",\"AAPL\",\"AAPL\",\"AAPL\",\"AAPL\",\"AAPL\",\"AAPL\",\"AAPL\",\"AAPL\",\"AAPL\",\"AAPL\",\"AAPL\",\"AAPL\",\"AAPL\",\"AAPL\",\"AAPL\",\"AAPL\",\"AAPL\",\"AAPL\",\"AAPL\",\"AAPL\",\"AAPL\",\"AAPL\",\"AAPL\",\"AAPL\",\"AAPL\",\"AAPL\",\"AAPL\",\"AAPL\",\"AAPL\",\"AAPL\",\"AAPL\",\"AAPL\",\"AAPL\",\"AAPL\",\"AAPL\",\"AAPL\",\"AAPL\",\"AAPL\",\"AAPL\",\"AAPL\",\"AAPL\",\"AAPL\",\"AAPL\",\"AAPL\",\"AAPL\",\"AAPL\",\"AAPL\",\"AAPL\",\"AAPL\",\"AAPL\",\"AAPL\",\"AAPL\",\"AAPL\",\"AAPL\",\"AAPL\",\"AAPL\",\"AAPL\",\"AAPL\",\"AAPL\",\"AAPL\",\"AAPL\",\"AAPL\",\"AAPL\",\"AAPL\",\"AAPL\",\"AAPL\",\"AAPL\",\"AAPL\",\"AAPL\",\"AAPL\",\"AAPL\",\"AAPL\",\"AAPL\",\"AAPL\",\"AAPL\",\"AAPL\",\"AAPL\",\"AAPL\",\"AAPL\",\"AAPL\",\"AAPL\",\"AAPL\",\"AAPL\",\"AAPL\",\"AAPL\",\"AAPL\",\"AAPL\",\"AAPL\",\"AAPL\",\"AAPL\",\"AAPL\",\"AAPL\",\"AAPL\",\"AAPL\",\"AAPL\",\"AAPL\",\"AAPL\",\"AAPL\",\"AAPL\",\"AAPL\",\"AAPL\",\"AAPL\",\"AAPL\"],\"date\":{\"__ndarray__\":\"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\",\"dtype\":\"float64\",\"order\":\"little\",\"shape\":[252]},\"value\":{\"__ndarray__\":\"H4XrUbiwY0DhehSuR8lhQKRwPQrXg2JAhetRuB59YkBcj8L1KNRiQKRwPQrXK2NAmpmZmZkxY0Bos+pztQFjQLgehetRuGJAZmZmZmYeY0CF61G4Hl1jQClcj8L1cGNACtejcD2SY0D2KFyPwh1jQJ0Rpb3BNWNAXI/C9SgUY0AAAAAAALBjQNcS8kHPgmNAAAAAAABQY0BI4XoUrq9kQKfoSC7/02RApHA9CtfTZEBI4XoUrl9lQLgehetRwGVA5fIf0m/FZUAUrkfhelRlQOF6FK5HQWVA9ihcj8ItZUC6awn5oFdlQI/C9ShcP2VAj8L1KFxfZUAAAAAAAEhlQNobfGEyW2VAexSuR+GCZUAUrkfhemRlQNejcD0Kn2VAuB6F61HIZUAzMzMzM8tlQFyPwvUo3GVAZmZmZmamZUDXo3A9Ct9lQOxRuB6F+2VAuB6F61HwZUC4HoXrUdBlQNejcD0Kj2VAPQrXo3CdZUCPwvUoXF9mQK5H4XoUnmZA16NwPQq3ZkCPwvUoXPdmQB+F61G4RmdAKVyPwvWAZ0DhehSuR1FnQD0K16NwhWdAmpmZmZlhaEBSuB6F6+FnQHE9CtejmGdA4XoUrkdZZ0DXo3A9Co9nQB+F61G4lmdArkfhehS+Z0BI4XoUrudnQOF6FK5HQWhAMzMzMzNraEDXo3A9CndoQNejcD0Kn2hAw/UoXI8CaUAAAAAAAPBoQIXrUbgeFWlAZmZmZmbeaEBcj8L1KNxoQI/C9Shc52hAAAAAAADoaECkcD0K12NpQOxRuB6Fe2lAFK5H4XqUaUC4HoXrUfBpQPYoXI/C5WlASOF6FK6naUDhehSuR4lpQOxRuB6Fk2lACtejcD0SaUBxPQrXo1BqQD0K16NwJWpAKVyPwvV4akAzMzMzMxNqQOxRuB6FW2lAzczMzMxcaUDXo3A9ChdpQJqZmZmZqWhA16NwPQo3Z0DNzMzMzJRnQD0K16Nw3WdAFK5H4XrEZ0CPwvUoXJ9nQHsUrkfh4mZAexSuR+FSZ0DhehSuR9lmQD0K16NwdWZAUrgehethZkA9CtejcEVmQDMzMzMzK2ZAAAAAAABIZkAAAAAAAOBlQClcj8L1qGVAPQrXo3B1ZkBaZDvfT9FmQI/C9ShcJ2dAFK5H4XrEZ0BxPQrXoxBoQFK4HoXrWWhArkfhehRGaEBI4XoUrldoQKRwPQrXF2hAZmZmZmY+aEAAAAAAANBoQOxRuB6Fu2hARwN4CyTsaECamZmZmdloQJqZmZmZ0WhACtejcD1yaECamZmZmfloQI/C9Shc92hAPQrXo3C9aED2KFyPwjVpQB+F61G4VmlAhetRuB6NaUAAAAAAAIhpQLgehetRAGlA16NwPQonaUAfhetRuGZpQEjhehSuN2lASOF6FK5naUBmZmZmZqZpQEjhehSuj2lAKVyPwvVoaUCF61G4HrVpQArXo3A9UmlA16NwPQrnaUBmZmZmZhpqQD0K16NwFWpAmpmZmZnhaUAAAAAAAPhpQD0K16NwNWpAPzVeukkcakApXI/C9ZhqQGIQWDm0DmpAexSuR+GCaUDXo3A9CidoQI/C9Shcn2hAFK5H4XrkaEBmZmZmZm5pQPYoXI/CHWlAAAAAAAAQaUCPwvUoXB9qQAAAAAAAWGlASOF6FK43aUCuR+F6FM5pQHsUrkfhSmpAMzMzMzNLakDNzMzMzJRqQGZmZmZmjmpAXI/C9ShUaUAzMzMzM9NpQBSuR+F6hGlAcT0K16OwaUAzMzMzMyNqQEjhehSuF2pACtejcD22aUAAAAAAAChqQHE9CtejqGpAcT0K16OoakDNzMzMzMRqQHE9CtejGGtAEFg5tMjya0B7FK5H4eJrQJqZmZmZWWtAzczMzMx8a0DNzMzMzJRrQHE9Ctej2GtAZmZmZmaea0CuR+F6FDZrQPYoXI/CVWtA9ihcj8I1a0BI4XoUrp9rQBSuR+F6fGtAMzMzMzNba0CPwvUoXP9rQMP1KFyPEmxAH4XrUbhea0BSuB6F65lrQLgehetRYGxAUrgehethbEAUrkfhegxsQAAAAAAAYGxAexSuR+HCbEDXo3A9CodtQBSuR+F6fG1ACtejcD1qbUAUrkfhekxtQOF6FK5HaW1AKVyPwvWIbUApXI/C9RBuQNejcD0K/21AFK5H4XpkbkAzMzMzM3NuQMP1KFyP0m5A4XoUrkchb0DhehSuR2luQOF6FK5HaW5AexSuR+Eab0B7FK5H4fpvQEjhehSuF3BAZmZmZmYScECkcD0K1xNwQAAAAAAAOHBACtejcD1CcEAzMzMzM2NwQEjhehSuX3BA7FG4HoWHcEDXo3A9CmtwQAAAAAAAnHBAUrgeheuxcEBxPQrXo6RwQOxRuB6Fc3BAXI/C9ShgcEA9CtejcF1wQB+F61G4pnBAmpmZmZmBcEC62or9Zb5wQHsUrkfhsnBAPQrXo3CBcEC4HoXrUThwQKRwPQrXW3BA4XoUrkeZcEAzMzMzM+twQB+F61G4rnBAUrgehevJcECkcD0K1+twQI/C9Shc93BAXI/C9Sg0cUD2KFyPwn1xQB+F61G4hnFAj8L1KFx7cUAUrkfheoBxQBSuR+F6dHFA7FG4HoW/cUB88rBQa8RxQMP1KFyPHnJA4XoUrkcdckAxCKwcWjpyQFK4HoXrVXJA\",\"dtype\":\"float64\",\"order\":\"little\",\"shape\":[252]}},\"selected\":{\"id\":\"245734\"},\"selection_policy\":{\"id\":\"245760\"}},\"id\":\"245733\",\"type\":\"ColumnDataSource\"},{\"attributes\":{\"click_policy\":\"mute\",\"items\":[{\"id\":\"245762\"},{\"id\":\"245793\"}],\"location\":[0,0],\"title\":\"Variable\"},\"id\":\"245761\",\"type\":\"Legend\"},{\"attributes\":{\"active_drag\":\"auto\",\"active_inspect\":\"auto\",\"active_multi\":null,\"active_scroll\":\"auto\",\"active_tap\":\"auto\",\"tools\":[{\"id\":\"245697\"},{\"id\":\"245716\"},{\"id\":\"245717\"},{\"id\":\"245718\"},{\"id\":\"245719\"},{\"id\":\"245720\"}]},\"id\":\"245722\",\"type\":\"Toolbar\"},{\"attributes\":{},\"id\":\"245760\",\"type\":\"UnionRenderers\"},{\"attributes\":{\"bottom_units\":\"screen\",\"fill_alpha\":0.5,\"fill_color\":\"lightgrey\",\"left_units\":\"screen\",\"level\":\"overlay\",\"line_alpha\":1.0,\"line_color\":\"black\",\"line_dash\":[4,4],\"line_width\":2,\"right_units\":\"screen\",\"top_units\":\"screen\"},\"id\":\"245721\",\"type\":\"BoxAnnotation\"},{\"attributes\":{\"children\":[{\"id\":\"245699\"}],\"margin\":[0,0,0,0],\"name\":\"Row285582\"},\"id\":\"245694\",\"type\":\"Row\"},{\"attributes\":{\"margin\":[5,10,5,10],\"title\":\"end_date\",\"value\":\"2020-01-01\"},\"id\":\"245692\",\"type\":\"TextInput\"},{\"attributes\":{\"label\":{\"value\":\"TSLA\"},\"renderers\":[{\"id\":\"245769\"}]},\"id\":\"245793\",\"type\":\"LegendItem\"},{\"attributes\":{\"callback\":null,\"formatters\":{\"@{date}\":\"datetime\"},\"renderers\":[{\"id\":\"245739\"},{\"id\":\"245769\"}],\"tags\":[\"hv_created\"],\"tooltips\":[[\"Variable\",\"@{Variable}\"],[\"date\",\"@{date}{%F %T}\"],[\"value\",\"@{value}\"]]},\"id\":\"245697\",\"type\":\"HoverTool\"},{\"attributes\":{},\"id\":\"245716\",\"type\":\"SaveTool\"},{\"attributes\":{},\"id\":\"245718\",\"type\":\"WheelZoomTool\"},{\"attributes\":{},\"id\":\"245732\",\"type\":\"BasicTickFormatter\"},{\"attributes\":{\"num_minor_ticks\":5,\"tickers\":[{\"id\":\"245747\"},{\"id\":\"245748\"},{\"id\":\"245749\"},{\"id\":\"245750\"},{\"id\":\"245751\"},{\"id\":\"245752\"},{\"id\":\"245753\"},{\"id\":\"245754\"},{\"id\":\"245755\"},{\"id\":\"245756\"},{\"id\":\"245757\"},{\"id\":\"245758\"}]},\"id\":\"245709\",\"type\":\"DatetimeTicker\"},{\"attributes\":{\"end\":459.67322,\"reset_end\":459.67322,\"reset_start\":113.43697999999999,\"start\":113.43697999999999,\"tags\":[[[\"value\",\"value\",null]]]},\"id\":\"245696\",\"type\":\"Range1d\"},{\"attributes\":{\"data\":{\"Variable\":[\"TSLA\",\"TSLA\",\"TSLA\",\"TSLA\",\"TSLA\",\"TSLA\",\"TSLA\",\"TSLA\",\"TSLA\",\"TSLA\",\"TSLA\",\"TSLA\",\"TSLA\",\"TSLA\",\"TSLA\",\"TSLA\",\"TSLA\",\"TSLA\",\"TSLA\",\"TSLA\",\"TSLA\",\"TSLA\",\"TSLA\",\"TSLA\",\"TSLA\",\"TSLA\",\"TSLA\",\"TSLA\",\"TSLA\",\"TSLA\",\"TSLA\",\"TSLA\",\"TSLA\",\"TSLA\",\"TSLA\",\"TSLA\",\"TSLA\",\"TSLA\",\"TSLA\",\"TSLA\",\"TSLA\",\"TSLA\",\"TSLA\",\"TSLA\",\"TSLA\",\"TSLA\",\"TSLA\",\"TSLA\",\"TSLA\",\"TSLA\",\"TSLA\",\"TSLA\",\"TSLA\",\"TSLA\",\"TSLA\",\"TSLA\",\"TSLA\",\"TSLA\",\"TSLA\",\"TSLA\",\"TSLA\",\"TSLA\",\"TSLA\",\"TSLA\",\"TSLA\",\"TSLA\",\"TSLA\",\"TSLA\",\"TSLA\",\"TSLA\",\"TSLA\",\"TSLA\",\"TSLA\",\"TSLA\",\"TSLA\",\"TSLA\",\"TSLA\",\"TSLA\",\"TSLA\",\"TSLA\",\"TSLA\",\"TSLA\",\"TSLA\",\"TSLA\",\"TSLA\",\"TSLA\",\"TSLA\",\"TSLA\",\"TSLA\",\"TSLA\",\"TSLA\",\"TSLA\",\"TSLA\",\"TSLA\",\"TSLA\",\"TSLA\",\"TSLA\",\"TSLA\",\"TSLA\",\"TSLA\",\"TSLA\",\"TSLA\",\"TSLA\",\"TSLA\",\"TSLA\",\"TSLA\",\"TSLA\",\"TSLA\",\"TSLA\",\"TSLA\",\"TSLA\",\"TSLA\",\"TSLA\",\"TSLA\",\"TSLA\",\"TSLA\",\"TSLA\",\"TSLA\",\"TSLA\",\"TSLA\",\"TSLA\",\"TSLA\",\"TSLA\",\"TSLA\",\"TSLA\",\"TSLA\",\"TSLA\",\"TSLA\",\"TSLA\",\"TSLA\",\"TSLA\",\"TSLA\",\"TSLA\",\"TSLA\",\"TSLA\",\"TSLA\",\"TSLA\",\"TSLA\",\"TSLA\",\"TSLA\",\"TSLA\",\"TSLA\",\"TSLA\",\"TSLA\",\"TSLA\",\"TSLA\",\"TSLA\",\"TSLA\",\"TSLA\",\"TSLA\",\"TSLA\",\"TSLA\",\"TSLA\",\"TSLA\",\"TSLA\",\"TSLA\",\"TSLA\",\"TSLA\",\"TSLA\",\"TSLA\",\"TSLA\",\"TSLA\",\"TSLA\",\"TSLA\",\"TSLA\",\"TSLA\",\"TSLA\",\"TSLA\",\"TSLA\",\"TSLA\",\"TSLA\",\"TSLA\",\"TSLA\",\"TSLA\",\"TSLA\",\"TSLA\",\"TSLA\",\"TSLA\",\"TSLA\",\"TSLA\",\"TSLA\",\"TSLA\",\"TSLA\",\"TSLA\",\"TSLA\",\"TSLA\",\"TSLA\",\"TSLA\",\"TSLA\",\"TSLA\",\"TSLA\",\"TSLA\",\"TSLA\",\"TSLA\",\"TSLA\",\"TSLA\",\"TSLA\",\"TSLA\",\"TSLA\",\"TSLA\",\"TSLA\",\"TSLA\",\"TSLA\",\"TSLA\",\"TSLA\",\"TSLA\",\"TSLA\",\"TSLA\",\"TSLA\",\"TSLA\",\"TSLA\",\"TSLA\",\"TSLA\",\"TSLA\",\"TSLA\",\"TSLA\",\"TSLA\",\"TSLA\",\"TSLA\",\"TSLA\",\"TSLA\",\"TSLA\",\"TSLA\",\"TSLA\",\"TSLA\",\"TSLA\",\"TSLA\",\"TSLA\",\"TSLA\",\"TSLA\",\"TSLA\",\"TSLA\",\"TSLA\",\"TSLA\",\"TSLA\",\"TSLA\",\"TSLA\",\"TSLA\",\"TSLA\",\"TSLA\",\"TSLA\",\"TSLA\",\"TSLA\",\"TSLA\",\"TSLA\",\"TSLA\",\"TSLA\",\"TSLA\",\"TSLA\",\"TSLA\",\"TSLA\",\"TSLA\"],\"date\":{\"__ndarray__\":\"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\",\"dtype\":\"float64\",\"order\":\"little\",\"shape\":[252]},\"value\":{\"__ndarray__\":\"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\",\"dtype\":\"float64\",\"order\":\"little\",\"shape\":[252]}},\"selected\":{\"id\":\"245764\"},\"selection_policy\":{\"id\":\"245792\"}},\"id\":\"245763\",\"type\":\"ColumnDataSource\"},{\"attributes\":{\"mantissas\":[1,2,5],\"max_interval\":500.0,\"num_minor_ticks\":0},\"id\":\"245747\",\"type\":\"AdaptiveTicker\"},{\"attributes\":{\"days\":[1,4,7,10,13,16,19,22,25,28]},\"id\":\"245751\",\"type\":\"DaysTicker\"},{\"attributes\":{\"children\":[{\"id\":\"245690\"},{\"id\":\"245691\"},{\"id\":\"245692\"},{\"id\":\"245693\"}],\"margin\":[0,0,0,0],\"name\":\"Column285583\"},\"id\":\"245689\",\"type\":\"Column\"},{\"attributes\":{},\"id\":\"245734\",\"type\":\"Selection\"},{\"attributes\":{},\"id\":\"245792\",\"type\":\"UnionRenderers\"},{\"attributes\":{\"end\":1577746800000.0,\"reset_end\":1577746800000.0,\"reset_start\":1546383600000.0,\"start\":1546383600000.0,\"tags\":[[[\"date\",\"date\",null]]]},\"id\":\"245695\",\"type\":\"Range1d\"},{\"attributes\":{},\"id\":\"245704\",\"type\":\"LinearScale\"},{\"attributes\":{\"months\":[0,1,2,3,4,5,6,7,8,9,10,11]},\"id\":\"245754\",\"type\":\"MonthsTicker\"},{\"attributes\":{\"axis\":{\"id\":\"245708\"},\"grid_line_color\":null,\"ticker\":null},\"id\":\"245711\",\"type\":\"Grid\"},{\"attributes\":{\"overlay\":{\"id\":\"245721\"}},\"id\":\"245719\",\"type\":\"BoxZoomTool\"},{\"attributes\":{\"source\":{\"id\":\"245733\"}},\"id\":\"245740\",\"type\":\"CDSView\"},{\"attributes\":{\"margin\":[5,10,5,10],\"title\":\"tickers\",\"value\":\"AAPL,TSLA\"},\"id\":\"245690\",\"type\":\"TextInput\"},{\"attributes\":{\"axis_label\":\"\",\"bounds\":\"auto\",\"formatter\":{\"id\":\"245732\"},\"major_label_orientation\":\"horizontal\",\"ticker\":{\"id\":\"245713\"}},\"id\":\"245712\",\"type\":\"LinearAxis\"},{\"attributes\":{\"line_alpha\":0.1,\"line_color\":\"#1f77b3\",\"line_width\":2,\"x\":{\"field\":\"date\"},\"y\":{\"field\":\"value\"}},\"id\":\"245737\",\"type\":\"Line\"},{\"attributes\":{\"months\":[0,2,4,6,8,10]},\"id\":\"245755\",\"type\":\"MonthsTicker\"},{\"attributes\":{\"text\":\"\",\"text_color\":{\"value\":\"black\"},\"text_font_size\":{\"value\":\"12pt\"}},\"id\":\"245700\",\"type\":\"Title\"},{\"attributes\":{\"line_alpha\":0.2,\"line_color\":\"#1f77b3\",\"line_width\":2,\"x\":{\"field\":\"date\"},\"y\":{\"field\":\"value\"}},\"id\":\"245738\",\"type\":\"Line\"},{\"attributes\":{\"client_comm_id\":\"7555987405b341e3a4c9c06f31485ac5\",\"comm_id\":\"fb2520cc7e044210bd0a0956c10025f0\",\"plot_id\":\"245688\"},\"id\":\"246058\",\"type\":\"panel.models.comm_manager.CommManager\"},{\"attributes\":{\"label\":{\"value\":\"AAPL\"},\"renderers\":[{\"id\":\"245739\"}]},\"id\":\"245762\",\"type\":\"LegendItem\"},{\"attributes\":{\"days\":[1,8,15,22]},\"id\":\"245752\",\"type\":\"DaysTicker\"},{\"attributes\":{\"line_alpha\":0.1,\"line_color\":\"#ff7e0e\",\"line_width\":2,\"x\":{\"field\":\"date\"},\"y\":{\"field\":\"value\"}},\"id\":\"245767\",\"type\":\"Line\"},{\"attributes\":{\"days\":[1,15]},\"id\":\"245753\",\"type\":\"DaysTicker\"},{\"attributes\":{\"months\":[0,6]},\"id\":\"245757\",\"type\":\"MonthsTicker\"},{\"attributes\":{\"axis\":{\"id\":\"245712\"},\"dimension\":1,\"grid_line_color\":null,\"ticker\":null},\"id\":\"245715\",\"type\":\"Grid\"},{\"attributes\":{\"source\":{\"id\":\"245763\"}},\"id\":\"245770\",\"type\":\"CDSView\"},{\"attributes\":{\"line_color\":\"#ff7e0e\",\"line_width\":2,\"x\":{\"field\":\"date\"},\"y\":{\"field\":\"value\"}},\"id\":\"245766\",\"type\":\"Line\"},{\"attributes\":{},\"id\":\"245758\",\"type\":\"YearsTicker\"},{\"attributes\":{},\"id\":\"245730\",\"type\":\"DatetimeTickFormatter\"}],\"root_ids\":[\"245688\",\"246058\"]},\"title\":\"Bokeh Application\",\"version\":\"2.1.1\"}};\n",
       "  var render_items = [{\"docid\":\"93c181b0-1ef5-4b89-b505-ebc14967f77b\",\"root_ids\":[\"245688\"],\"roots\":{\"245688\":\"f61b6f59-c2e3-466b-ae2b-4b508764059d\"}}];\n",
       "  root.Bokeh.embed.embed_items_notebook(docs_json, render_items);\n",
       "  }\n",
       "if (root.Bokeh !== undefined) {\n",
       "    embed_document(root);\n",
       "  } else {\n",
       "    var attempts = 0;\n",
       "    var timer = setInterval(function(root) {\n",
       "      if (root.Bokeh !== undefined) {\n",
       "        clearInterval(timer);\n",
       "        embed_document(root);\n",
       "      } else if (document.readyState == \"complete\") {\n",
       "        attempts++;\n",
       "        if (attempts > 100) {\n",
       "          clearInterval(timer);\n",
       "          console.log(\"Bokeh: ERROR: Unable to run BokehJS code because BokehJS library is missing\");\n",
       "        }\n",
       "      }\n",
       "    }, 10, root)\n",
       "  }\n",
       "})(window);</script>"
      ],
      "text/plain": [
       "Column\n",
       "    [0] Column\n",
       "        [0] TextInput(name='tickers', value='AAPL,TSLA')\n",
       "        [1] TextInput(name='start_date', value='2019-01-01')\n",
       "        [2] TextInput(name='end_date', value='2020-01-01')\n",
       "        [3] Select(name='calc', options=['close', 'pct_change', ...], value='close')\n",
       "    [1] Row\n",
       "        [0] HoloViews(NdOverlay, name='interactive285475')"
      ]
     },
     "execution_count": 75,
     "metadata": {
      "application/vnd.holoviews_exec.v0+json": {
       "id": "245688"
      }
     },
     "output_type": "execute_result"
    }
   ],
   "source": [
    "pn.interact(graph_closes, \n",
    "            tickers='AAPL,TSLA', \n",
    "            start_date='2019-01-01', \n",
    "            end_date='2020-01-01', \n",
    "            calc=['close', 'pct_change', 'std', 'mean', 'ewma', 'ewmstd', 'sharpe'],\n",
    ")"
   ]
  },
  {
   "cell_type": "code",
   "execution_count": 59,
   "metadata": {},
   "outputs": [
    {
     "data": {
      "text/plain": [
       "AAPL    111.117633\n",
       "dtype: float64"
      ]
     },
     "execution_count": 59,
     "metadata": {},
     "output_type": "execute_result"
    }
   ],
   "source": [
    "((df.mean() * 252) / (df.std() * np.sqrt(252)))"
   ]
  },
  {
   "cell_type": "code",
   "execution_count": 60,
   "metadata": {},
   "outputs": [
    {
     "data": {
      "text/html": [
       "<div>\n",
       "<style scoped>\n",
       "    .dataframe tbody tr th:only-of-type {\n",
       "        vertical-align: middle;\n",
       "    }\n",
       "\n",
       "    .dataframe tbody tr th {\n",
       "        vertical-align: top;\n",
       "    }\n",
       "\n",
       "    .dataframe thead th {\n",
       "        text-align: right;\n",
       "    }\n",
       "</style>\n",
       "<table border=\"1\" class=\"dataframe\">\n",
       "  <thead>\n",
       "    <tr style=\"text-align: right;\">\n",
       "      <th></th>\n",
       "      <th>AAPL</th>\n",
       "    </tr>\n",
       "    <tr>\n",
       "      <th>date</th>\n",
       "      <th></th>\n",
       "    </tr>\n",
       "  </thead>\n",
       "  <tbody>\n",
       "    <tr>\n",
       "      <th>2020-02-25 23:00:00</th>\n",
       "      <td>292.69</td>\n",
       "    </tr>\n",
       "    <tr>\n",
       "      <th>2020-02-26 23:00:00</th>\n",
       "      <td>273.04</td>\n",
       "    </tr>\n",
       "    <tr>\n",
       "      <th>2020-02-27 23:00:00</th>\n",
       "      <td>274.64</td>\n",
       "    </tr>\n",
       "    <tr>\n",
       "      <th>2020-03-01 23:00:00</th>\n",
       "      <td>298.82</td>\n",
       "    </tr>\n",
       "    <tr>\n",
       "      <th>2020-03-02 23:00:00</th>\n",
       "      <td>289.31</td>\n",
       "    </tr>\n",
       "    <tr>\n",
       "      <th>...</th>\n",
       "      <td>...</td>\n",
       "    </tr>\n",
       "    <tr>\n",
       "      <th>2020-07-12 23:00:00</th>\n",
       "      <td>381.91</td>\n",
       "    </tr>\n",
       "    <tr>\n",
       "      <th>2020-07-13 23:00:00</th>\n",
       "      <td>388.21</td>\n",
       "    </tr>\n",
       "    <tr>\n",
       "      <th>2020-07-14 23:00:00</th>\n",
       "      <td>390.91</td>\n",
       "    </tr>\n",
       "    <tr>\n",
       "      <th>2020-07-15 23:00:00</th>\n",
       "      <td>385.72</td>\n",
       "    </tr>\n",
       "    <tr>\n",
       "      <th>2020-07-16 23:00:00</th>\n",
       "      <td>385.15</td>\n",
       "    </tr>\n",
       "  </tbody>\n",
       "</table>\n",
       "<p>100 rows × 1 columns</p>\n",
       "</div>"
      ],
      "text/plain": [
       "                       AAPL\n",
       "date                       \n",
       "2020-02-25 23:00:00  292.69\n",
       "2020-02-26 23:00:00  273.04\n",
       "2020-02-27 23:00:00  274.64\n",
       "2020-03-01 23:00:00  298.82\n",
       "2020-03-02 23:00:00  289.31\n",
       "...                     ...\n",
       "2020-07-12 23:00:00  381.91\n",
       "2020-07-13 23:00:00  388.21\n",
       "2020-07-14 23:00:00  390.91\n",
       "2020-07-15 23:00:00  385.72\n",
       "2020-07-16 23:00:00  385.15\n",
       "\n",
       "[100 rows x 1 columns]"
      ]
     },
     "execution_count": 60,
     "metadata": {},
     "output_type": "execute_result"
    }
   ],
   "source": [
    "df"
   ]
  },
  {
   "cell_type": "code",
   "execution_count": 73,
   "metadata": {},
   "outputs": [
    {
     "data": {
      "text/plain": [
       "AAPL    0.947014\n",
       "dtype: float64"
      ]
     },
     "execution_count": 73,
     "metadata": {},
     "output_type": "execute_result"
    }
   ],
   "source": [
    "((df.pct_change().mean() * len(df) / (df.pct_change().std() * np.sqrt(len(df)))))"
   ]
  },
  {
   "cell_type": "code",
   "execution_count": null,
   "metadata": {},
   "outputs": [],
   "source": []
  }
 ],
 "metadata": {
  "kernelspec": {
   "display_name": "Python 3.7.7 64-bit ('pyvizenv': conda)",
   "language": "python",
   "name": "python37764bitpyvizenvcondad10f9e10a8654511aba474f3f3c3e906"
  },
  "language_info": {
   "codemirror_mode": {
    "name": "ipython",
    "version": 3
   },
   "file_extension": ".py",
   "mimetype": "text/x-python",
   "name": "python",
   "nbconvert_exporter": "python",
   "pygments_lexer": "ipython3",
   "version": "3.7.7"
  }
 },
 "nbformat": 4,
 "nbformat_minor": 4
}
